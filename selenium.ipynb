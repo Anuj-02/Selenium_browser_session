{
 "cells": [
  {
   "attachments": {},
   "cell_type": "markdown",
   "metadata": {},
   "source": [
    "How to reuse a selenium browser session"
   ]
  },
  {
   "attachments": {},
   "cell_type": "markdown",
   "metadata": {},
   "source": [
    "If you want the ultimate performance, you can make Selenium as an HTTP server to receive commands. Example:"
   ]
  },
  {
   "cell_type": "code",
   "execution_count": null,
   "metadata": {},
   "outputs": [],
   "source": [
    "\n",
    "import threading\n",
    "\n",
    "import flask\n",
    "import requests\n",
    "import selenium.webdriver\n",
    "\n",
    "app = flask.Flask(__name__)\n",
    "\n",
    "\n",
    "@app.post(\"/\")\n",
    "def home():\n",
    "    return str(driver.execute_script(flask.request.data.decode()))\n",
    "\n",
    "\n",
    "threading.Thread(target=lambda: app.run(host=\"127.0.0.1\", port=5000)).start()\n",
    "driver = selenium.webdriver.Chrome()\n",
    "\n",
    "print(\"1+1=\", requests.post(\"http://localhost:5000\", \"return 1+1\").text)\n",
    "print(\"userAgent=\", requests.post(\"http://localhost:5000\", \"return navigator.userAgent\").text)"
   ]
  },
  {
   "attachments": {},
   "cell_type": "markdown",
   "metadata": {},
   "source": [
    "Here is an example using a one file solution, though it would work in a two file solution as well."
   ]
  },
  {
   "cell_type": "code",
   "execution_count": null,
   "metadata": {},
   "outputs": [],
   "source": [
    "from selenium import webdriver\n",
    "from selenium.webdriver.chrome.options import Options\n",
    "from multiprocessing import Process\n",
    "import time\n",
    "\n",
    "# The main process calls this function to create the driver instance.\n",
    "def createDriverInstance():\n",
    "    options = Options()\n",
    "    options.add_argument('--disable-infobars')\n",
    "    driver = webdriver.Chrome(chrome_options=options, port=9515)\n",
    "    return driver\n",
    "\n",
    "# Called by the second process only.\n",
    "def secondProcess(executor_url, session_id):\n",
    "    options = Options()\n",
    "    options.add_argument(\"--disable-infobars\")\n",
    "    options.add_argument(\"--enable-file-cookies\")\n",
    "    capabilities = options.to_capabilities()\n",
    "    same_driver = webdriver.Remote(command_executor=executor_url, desired_capabilities=capabilities)\n",
    "    same_driver.close()\n",
    "    same_driver.session_id = session_id\n",
    "    same_driver.get(\"https://www.wikipedia.org\")\n",
    "    time.sleep(4)\n",
    "    same_driver.quit()\n",
    "\n",
    "if __name__ == '__main__':\n",
    "    driver = createDriverInstance()\n",
    "    driver.get(\"https://google.com\")\n",
    "    time.sleep(2)\n",
    "\n",
    "    # Pass the driver session and command_executor to the second process.\n",
    "    p = Process(target=secondProcess, args=(driver.command_executor._url,driver.session_id))\n",
    "    p.start()\n"
   ]
  }
 ],
 "metadata": {
  "language_info": {
   "name": "python"
  },
  "orig_nbformat": 4
 },
 "nbformat": 4,
 "nbformat_minor": 2
}
